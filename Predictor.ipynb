{
 "cells": [
  {
   "cell_type": "code",
   "execution_count": 1,
   "id": "2e80ce73",
   "metadata": {},
   "outputs": [],
   "source": [
    "import numpy as np\n",
    "import os\n",
    "import glob\n",
    "import matplotlib.pyplot as plt\n",
    "import cv2\n",
    "import pickle \n",
    "from sklearn.model_selection import train_test_split\n",
    "import tensorflow as tf\n",
    "from tensorflow import keras\n",
    "from tensorflow.keras import datasets, layers, models\n",
    "from PIL import Image\n",
    "import pandas as pd"
   ]
  },
  {
   "cell_type": "code",
   "execution_count": 2,
   "id": "cd4adf6c",
   "metadata": {},
   "outputs": [
    {
     "name": "stderr",
     "output_type": "stream",
     "text": [
      "C:\\Users\\arjun\\AppData\\Local\\Temp\\ipykernel_8648\\3446257290.py:3: VisibleDeprecationWarning: Creating an ndarray from ragged nested sequences (which is a list-or-tuple of lists-or-tuples-or ndarrays with different lengths or shapes) is deprecated. If you meant to do this, you must specify 'dtype=object' when creating the ndarray.\n",
      "  x = np.array([np.array(Image.open(fname)) for fname in filelist])\n"
     ]
    },
    {
     "data": {
      "text/plain": [
       "(663,)"
      ]
     },
     "execution_count": 2,
     "metadata": {},
     "output_type": "execute_result"
    }
   ],
   "source": [
    "filelist = glob.glob('dataset/*.jpg')\n",
    "\n",
    "x = np.array([np.array(Image.open(fname)) for fname in filelist])\n",
    "x.shape"
   ]
  },
  {
   "cell_type": "code",
   "execution_count": 3,
   "id": "8ad00e86",
   "metadata": {},
   "outputs": [],
   "source": [
    "y = np.array([int(i.split('_')[0].split('\\\\')[1]) for i in filelist])"
   ]
  },
  {
   "cell_type": "code",
   "execution_count": 4,
   "id": "f0746b9d",
   "metadata": {},
   "outputs": [],
   "source": [
    "resized_x = np.array([cv2.resize(i,(64,64)) for i in x])"
   ]
  },
  {
   "cell_type": "code",
   "execution_count": 5,
   "id": "a1ecca4f",
   "metadata": {},
   "outputs": [],
   "source": [
    "x_train, x_test, y_train, y_test = train_test_split(resized_x, y, test_size=0.1, random_state=2)\n"
   ]
  },
  {
   "cell_type": "code",
   "execution_count": 6,
   "id": "cdb1b35a",
   "metadata": {},
   "outputs": [],
   "source": [
    "scaled_x_train = x_train / 255.0 #rescaling\n",
    "scaled_x_test = x_test / 255.0"
   ]
  },
  {
   "cell_type": "code",
   "execution_count": 7,
   "id": "212c78e7",
   "metadata": {},
   "outputs": [],
   "source": [
    "data_augmentation = keras.Sequential([\n",
    "          layers.RandomFlip(\"horizontal\",input_shape=(64,64,3)),\n",
    "          layers.RandomRotation(0.1),\n",
    "          layers.RandomZoom(0.1),\n",
    "        ])"
   ]
  },
  {
   "cell_type": "code",
   "execution_count": 8,
   "id": "3cbaad0d",
   "metadata": {},
   "outputs": [],
   "source": [
    "cnn = models.Sequential([\n",
    "        layers.Conv2D(filters=32, kernel_size=(3, 3), activation='relu'),\n",
    "        layers.MaxPooling2D((2, 2)),\n",
    "        \n",
    "        layers.Conv2D(filters=32, kernel_size=(3, 3), activation='relu'),\n",
    "        layers.MaxPooling2D((2, 2)),\n",
    "    \n",
    "        layers.Dropout(0.2),\n",
    "        layers.Flatten(),\n",
    "        layers.Dense(64, activation='relu'),\n",
    "        layers.Dense(5, activation='softmax')\n",
    "    ])"
   ]
  },
  {
   "cell_type": "code",
   "execution_count": 9,
   "id": "c1ac0b67",
   "metadata": {},
   "outputs": [],
   "source": [
    "cnn.compile(optimizer='adam',loss='sparse_categorical_crossentropy',metrics=['accuracy'])"
   ]
  },
  {
   "cell_type": "code",
   "execution_count": 10,
   "id": "0593c038",
   "metadata": {},
   "outputs": [
    {
     "name": "stdout",
     "output_type": "stream",
     "text": [
      "Epoch 1/50\n",
      "19/19 [==============================] - 2s 79ms/step - loss: 1.6474 - accuracy: 0.2164\n",
      "Epoch 2/50\n",
      "19/19 [==============================] - 1s 79ms/step - loss: 1.5849 - accuracy: 0.2567\n",
      "Epoch 3/50\n",
      "19/19 [==============================] - 2s 91ms/step - loss: 1.4475 - accuracy: 0.4128\n",
      "Epoch 4/50\n",
      "19/19 [==============================] - 2s 109ms/step - loss: 1.2289 - accuracy: 0.5000\n",
      "Epoch 5/50\n",
      "19/19 [==============================] - 2s 86ms/step - loss: 0.9507 - accuracy: 0.6460\n",
      "Epoch 6/50\n",
      "19/19 [==============================] - 2s 95ms/step - loss: 0.8205 - accuracy: 0.7064\n",
      "Epoch 7/50\n",
      "19/19 [==============================] - 2s 108ms/step - loss: 0.6183 - accuracy: 0.7903\n",
      "Epoch 8/50\n",
      "19/19 [==============================] - 2s 110ms/step - loss: 0.4562 - accuracy: 0.8591\n",
      "Epoch 9/50\n",
      "19/19 [==============================] - 2s 92ms/step - loss: 0.3499 - accuracy: 0.9027\n",
      "Epoch 10/50\n",
      "19/19 [==============================] - 2s 107ms/step - loss: 0.2891 - accuracy: 0.9312\n",
      "Epoch 11/50\n",
      "19/19 [==============================] - 2s 82ms/step - loss: 0.2265 - accuracy: 0.9346\n",
      "Epoch 12/50\n",
      "19/19 [==============================] - 1s 78ms/step - loss: 0.1605 - accuracy: 0.9698\n",
      "Epoch 13/50\n",
      "19/19 [==============================] - 2s 106ms/step - loss: 0.1568 - accuracy: 0.9681\n",
      "Epoch 14/50\n",
      "19/19 [==============================] - 2s 80ms/step - loss: 0.0988 - accuracy: 0.9765\n",
      "Epoch 15/50\n",
      "19/19 [==============================] - 2s 98ms/step - loss: 0.0647 - accuracy: 0.9966\n",
      "Epoch 16/50\n",
      "19/19 [==============================] - 2s 109ms/step - loss: 0.0504 - accuracy: 0.9966\n",
      "Epoch 17/50\n",
      "19/19 [==============================] - 2s 109ms/step - loss: 0.0330 - accuracy: 1.0000\n",
      "Epoch 18/50\n",
      "19/19 [==============================] - 2s 79ms/step - loss: 0.0301 - accuracy: 0.9950\n",
      "Epoch 19/50\n",
      "19/19 [==============================] - 2s 106ms/step - loss: 0.0252 - accuracy: 0.9983\n",
      "Epoch 20/50\n",
      "19/19 [==============================] - 2s 89ms/step - loss: 0.0202 - accuracy: 1.0000\n",
      "Epoch 21/50\n",
      "19/19 [==============================] - 2s 91ms/step - loss: 0.0159 - accuracy: 1.0000\n",
      "Epoch 22/50\n",
      "19/19 [==============================] - 2s 107ms/step - loss: 0.0233 - accuracy: 0.9966\n",
      "Epoch 23/50\n",
      "19/19 [==============================] - 2s 103ms/step - loss: 0.0345 - accuracy: 0.9916\n",
      "Epoch 24/50\n",
      "19/19 [==============================] - 2s 89ms/step - loss: 0.0386 - accuracy: 0.9883\n",
      "Epoch 25/50\n",
      "19/19 [==============================] - 2s 113ms/step - loss: 0.0376 - accuracy: 0.9883\n",
      "Epoch 26/50\n",
      "19/19 [==============================] - 2s 103ms/step - loss: 0.0364 - accuracy: 0.9966\n",
      "Epoch 27/50\n",
      "19/19 [==============================] - 2s 118ms/step - loss: 0.0116 - accuracy: 1.0000\n",
      "Epoch 28/50\n",
      "19/19 [==============================] - 2s 114ms/step - loss: 0.0097 - accuracy: 1.0000\n",
      "Epoch 29/50\n",
      "19/19 [==============================] - 2s 90ms/step - loss: 0.0065 - accuracy: 1.0000\n",
      "Epoch 30/50\n",
      "19/19 [==============================] - 2s 98ms/step - loss: 0.0074 - accuracy: 1.0000\n",
      "Epoch 31/50\n",
      "19/19 [==============================] - 2s 126ms/step - loss: 0.0060 - accuracy: 1.0000\n",
      "Epoch 32/50\n",
      "19/19 [==============================] - 2s 124ms/step - loss: 0.0058 - accuracy: 1.0000\n",
      "Epoch 33/50\n",
      "19/19 [==============================] - 2s 89ms/step - loss: 0.0056 - accuracy: 1.0000\n",
      "Epoch 34/50\n",
      "19/19 [==============================] - 2s 124ms/step - loss: 0.0037 - accuracy: 1.0000\n",
      "Epoch 35/50\n",
      "19/19 [==============================] - 2s 112ms/step - loss: 0.0034 - accuracy: 1.0000\n",
      "Epoch 36/50\n",
      "19/19 [==============================] - 2s 123ms/step - loss: 0.0026 - accuracy: 1.0000\n",
      "Epoch 37/50\n",
      "19/19 [==============================] - 2s 106ms/step - loss: 0.0029 - accuracy: 1.0000\n",
      "Epoch 38/50\n",
      "19/19 [==============================] - 2s 89ms/step - loss: 0.0035 - accuracy: 1.0000\n",
      "Epoch 39/50\n",
      "19/19 [==============================] - 2s 95ms/step - loss: 0.0024 - accuracy: 1.0000\n",
      "Epoch 40/50\n",
      "19/19 [==============================] - 2s 117ms/step - loss: 0.0024 - accuracy: 1.0000\n",
      "Epoch 41/50\n",
      "19/19 [==============================] - 2s 118ms/step - loss: 0.0025 - accuracy: 1.0000\n",
      "Epoch 42/50\n",
      "19/19 [==============================] - 2s 96ms/step - loss: 0.0021 - accuracy: 1.0000\n",
      "Epoch 43/50\n",
      "19/19 [==============================] - 2s 106ms/step - loss: 0.0025 - accuracy: 1.0000\n",
      "Epoch 44/50\n",
      "19/19 [==============================] - 2s 100ms/step - loss: 0.0020 - accuracy: 1.0000\n",
      "Epoch 45/50\n",
      "19/19 [==============================] - 2s 94ms/step - loss: 0.0029 - accuracy: 1.0000\n",
      "Epoch 46/50\n",
      "19/19 [==============================] - 2s 108ms/step - loss: 0.0018 - accuracy: 1.0000\n",
      "Epoch 47/50\n",
      "19/19 [==============================] - 2s 113ms/step - loss: 0.0018 - accuracy: 1.0000\n",
      "Epoch 48/50\n",
      "19/19 [==============================] - 2s 93ms/step - loss: 0.0019 - accuracy: 1.0000\n",
      "Epoch 49/50\n",
      "19/19 [==============================] - 2s 112ms/step - loss: 0.0032 - accuracy: 1.0000\n",
      "Epoch 50/50\n",
      "19/19 [==============================] - 2s 105ms/step - loss: 0.0038 - accuracy: 0.9983\n"
     ]
    },
    {
     "data": {
      "text/plain": [
       "<keras.callbacks.History at 0x1208117e260>"
      ]
     },
     "execution_count": 10,
     "metadata": {},
     "output_type": "execute_result"
    }
   ],
   "source": [
    "cnn.fit(scaled_x_train, y_train, epochs=50)"
   ]
  },
  {
   "cell_type": "code",
   "execution_count": 19,
   "id": "5c644286",
   "metadata": {},
   "outputs": [
    {
     "name": "stdout",
     "output_type": "stream",
     "text": [
      "3/3 [==============================] - 0s 10ms/step - loss: 0.9543 - accuracy: 0.8358\n"
     ]
    },
    {
     "data": {
      "text/plain": [
       "[0.9542693495750427, 0.8358209133148193]"
      ]
     },
     "execution_count": 19,
     "metadata": {},
     "output_type": "execute_result"
    }
   ],
   "source": [
    "cnn.evaluate(scaled_x_test,y_test)"
   ]
  },
  {
   "cell_type": "code",
   "execution_count": 12,
   "id": "b69243ba",
   "metadata": {},
   "outputs": [
    {
     "data": {
      "text/plain": [
       "array([[9.1695343e-04, 1.9970111e-07, 1.5964682e-07, 6.2980698e-06,\n",
       "        9.9907637e-01]], dtype=float32)"
      ]
     },
     "execution_count": 12,
     "metadata": {},
     "output_type": "execute_result"
    }
   ],
   "source": [
    "cnn.predict(scaled_x_test[12].reshape(1,64,64,3))"
   ]
  },
  {
   "cell_type": "code",
   "execution_count": 13,
   "id": "f0be537a",
   "metadata": {},
   "outputs": [
    {
     "data": {
      "text/plain": [
       "4"
      ]
     },
     "execution_count": 13,
     "metadata": {},
     "output_type": "execute_result"
    }
   ],
   "source": [
    "np.argmax(cnn.predict(scaled_x_test[12].reshape(1,64,64,3)))"
   ]
  },
  {
   "cell_type": "code",
   "execution_count": 14,
   "id": "753948b8",
   "metadata": {},
   "outputs": [
    {
     "data": {
      "text/plain": [
       "<matplotlib.image.AxesImage at 0x12118bb4670>"
      ]
     },
     "execution_count": 14,
     "metadata": {},
     "output_type": "execute_result"
    },
    {
     "data": {
      "image/png": "[encoded data removed]",
      "text/plain": [
       "<Figure size 432x288 with 1 Axes>"
      ]
     },
     "metadata": {
      "needs_background": "light"
     },
     "output_type": "display_data"
    }
   ],
   "source": [
    "plt.imshow(x_test[12])"
   ]
  },
  {
   "cell_type": "code",
   "execution_count": 15,
   "id": "e5c42baf",
   "metadata": {},
   "outputs": [],
   "source": [
    "predicted = cnn.predict(x_test)"
   ]
  },
  {
   "cell_type": "code",
   "execution_count": 16,
   "id": "c5e9c828",
   "metadata": {},
   "outputs": [],
   "source": [
    "l = []\n",
    "for i in predicted:\n",
    "    l.append(np.argmax(i))"
   ]
  },
  {
   "cell_type": "code",
   "execution_count": 17,
   "id": "c986db23",
   "metadata": {},
   "outputs": [
    {
     "data": {
      "text/plain": [
       "array([4, 3, 3, 3, 4, 4, 4, 0, 2, 0, 3, 0, 4, 1, 3, 1, 4, 0, 4, 2, 1, 4,\n",
       "       4, 4, 2, 1, 4, 0, 2, 1, 1, 3, 0, 1, 3, 2, 2, 0, 1, 3, 0, 0, 0, 4,\n",
       "       4, 4, 3, 1, 3, 1, 0, 0, 2, 4, 0, 4, 0, 4, 2, 3, 4, 4, 0, 3, 1, 2,\n",
       "       1], dtype=int64)"
      ]
     },
     "execution_count": 17,
     "metadata": {},
     "output_type": "execute_result"
    }
   ],
   "source": [
    "np.array(l)"
   ]
  },
  {
   "cell_type": "code",
   "execution_count": 18,
   "id": "829bff45",
   "metadata": {},
   "outputs": [
    {
     "data": {
      "text/plain": [
       "array([4, 3, 1, 3, 4, 4, 4, 2, 2, 0, 3, 0, 4, 1, 3, 1, 2, 0, 0, 2, 1, 4,\n",
       "       4, 3, 2, 1, 4, 3, 2, 1, 0, 3, 3, 1, 3, 2, 2, 2, 1, 2, 0, 0, 0, 4,\n",
       "       4, 4, 3, 1, 3, 1, 0, 0, 2, 4, 0, 4, 0, 4, 2, 3, 4, 4, 0, 3, 1, 2,\n",
       "       1])"
      ]
     },
     "execution_count": 18,
     "metadata": {},
     "output_type": "execute_result"
    }
   ],
   "source": [
    "y_test"
   ]
  }
 ],
 "metadata": {
  "kernelspec": {
   "display_name": "Python 3 (ipykernel)",
   "language": "python",
   "name": "python3"
  },
  "language_info": {
   "codemirror_mode": {
    "name": "ipython",
    "version": 3
   },
   "file_extension": ".py",
   "mimetype": "text/x-python",
   "name": "python",
   "nbconvert_exporter": "python",
   "pygments_lexer": "ipython3",
   "version": "3.10.2"
  }
 },
 "nbformat": 4,
 "nbformat_minor": 5
}
